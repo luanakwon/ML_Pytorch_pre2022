{
  "nbformat": 4,
  "nbformat_minor": 0,
  "metadata": {
    "colab": {
      "name": "GAN_PR.ipynb",
      "provenance": [],
      "collapsed_sections": [],
      "include_colab_link": true
    },
    "kernelspec": {
      "name": "python3",
      "display_name": "Python 3"
    },
    "accelerator": "GPU",
    "widgets": {
      "application/vnd.jupyter.widget-state+json": {
        "0d638f6e68424dafa54969be9ea14d21": {
          "model_module": "@jupyter-widgets/controls",
          "model_name": "HBoxModel",
          "state": {
            "_view_name": "HBoxView",
            "_dom_classes": [],
            "_model_name": "HBoxModel",
            "_view_module": "@jupyter-widgets/controls",
            "_model_module_version": "1.5.0",
            "_view_count": null,
            "_view_module_version": "1.5.0",
            "box_style": "",
            "layout": "IPY_MODEL_911d30003a6a45ed8e1ede65e1776986",
            "_model_module": "@jupyter-widgets/controls",
            "children": [
              "IPY_MODEL_5bd9951ed780441a9f9197635fa82abd",
              "IPY_MODEL_8c15377d98754954bcd955917d054138"
            ]
          },
          "model_module_version": "1.5.0"
        },
        "911d30003a6a45ed8e1ede65e1776986": {
          "model_module": "@jupyter-widgets/base",
          "model_name": "LayoutModel",
          "state": {
            "_view_name": "LayoutView",
            "grid_template_rows": null,
            "right": null,
            "justify_content": null,
            "_view_module": "@jupyter-widgets/base",
            "overflow": null,
            "_model_module_version": "1.2.0",
            "_view_count": null,
            "flex_flow": null,
            "width": null,
            "min_width": null,
            "border": null,
            "align_items": null,
            "bottom": null,
            "_model_module": "@jupyter-widgets/base",
            "top": null,
            "grid_column": null,
            "overflow_y": null,
            "overflow_x": null,
            "grid_auto_flow": null,
            "grid_area": null,
            "grid_template_columns": null,
            "flex": null,
            "_model_name": "LayoutModel",
            "justify_items": null,
            "grid_row": null,
            "max_height": null,
            "align_content": null,
            "visibility": null,
            "align_self": null,
            "height": null,
            "min_height": null,
            "padding": null,
            "grid_auto_rows": null,
            "grid_gap": null,
            "max_width": null,
            "order": null,
            "_view_module_version": "1.2.0",
            "grid_template_areas": null,
            "object_position": null,
            "object_fit": null,
            "grid_auto_columns": null,
            "margin": null,
            "display": null,
            "left": null
          },
          "model_module_version": "1.2.0"
        },
        "5bd9951ed780441a9f9197635fa82abd": {
          "model_module": "@jupyter-widgets/controls",
          "model_name": "FloatProgressModel",
          "state": {
            "_view_name": "ProgressView",
            "style": "IPY_MODEL_932463c25d174790b2c88ce260e11d17",
            "_dom_classes": [],
            "description": "",
            "_model_name": "FloatProgressModel",
            "bar_style": "info",
            "max": 1,
            "_view_module": "@jupyter-widgets/controls",
            "_model_module_version": "1.5.0",
            "value": 1,
            "_view_count": null,
            "_view_module_version": "1.5.0",
            "orientation": "horizontal",
            "min": 0,
            "description_tooltip": null,
            "_model_module": "@jupyter-widgets/controls",
            "layout": "IPY_MODEL_05b48da60c6943bda19ee7e34c57ae66"
          },
          "model_module_version": "1.5.0"
        },
        "8c15377d98754954bcd955917d054138": {
          "model_module": "@jupyter-widgets/controls",
          "model_name": "HTMLModel",
          "state": {
            "_view_name": "HTMLView",
            "style": "IPY_MODEL_cbb637bb49e64b12ac3db38e6816eb70",
            "_dom_classes": [],
            "description": "",
            "_model_name": "HTMLModel",
            "placeholder": "​",
            "_view_module": "@jupyter-widgets/controls",
            "_model_module_version": "1.5.0",
            "value": " 9920512/? [00:20&lt;00:00, 31235384.38it/s]",
            "_view_count": null,
            "_view_module_version": "1.5.0",
            "description_tooltip": null,
            "_model_module": "@jupyter-widgets/controls",
            "layout": "IPY_MODEL_5afe1dacd9c94faeacb6be3ad4a37a65"
          },
          "model_module_version": "1.5.0"
        },
        "932463c25d174790b2c88ce260e11d17": {
          "model_module": "@jupyter-widgets/controls",
          "model_name": "ProgressStyleModel",
          "state": {
            "_view_name": "StyleView",
            "_model_name": "ProgressStyleModel",
            "description_width": "initial",
            "_view_module": "@jupyter-widgets/base",
            "_model_module_version": "1.5.0",
            "_view_count": null,
            "_view_module_version": "1.2.0",
            "bar_color": null,
            "_model_module": "@jupyter-widgets/controls"
          },
          "model_module_version": "1.5.0"
        },
        "05b48da60c6943bda19ee7e34c57ae66": {
          "model_module": "@jupyter-widgets/base",
          "model_name": "LayoutModel",
          "state": {
            "_view_name": "LayoutView",
            "grid_template_rows": null,
            "right": null,
            "justify_content": null,
            "_view_module": "@jupyter-widgets/base",
            "overflow": null,
            "_model_module_version": "1.2.0",
            "_view_count": null,
            "flex_flow": null,
            "width": null,
            "min_width": null,
            "border": null,
            "align_items": null,
            "bottom": null,
            "_model_module": "@jupyter-widgets/base",
            "top": null,
            "grid_column": null,
            "overflow_y": null,
            "overflow_x": null,
            "grid_auto_flow": null,
            "grid_area": null,
            "grid_template_columns": null,
            "flex": null,
            "_model_name": "LayoutModel",
            "justify_items": null,
            "grid_row": null,
            "max_height": null,
            "align_content": null,
            "visibility": null,
            "align_self": null,
            "height": null,
            "min_height": null,
            "padding": null,
            "grid_auto_rows": null,
            "grid_gap": null,
            "max_width": null,
            "order": null,
            "_view_module_version": "1.2.0",
            "grid_template_areas": null,
            "object_position": null,
            "object_fit": null,
            "grid_auto_columns": null,
            "margin": null,
            "display": null,
            "left": null
          },
          "model_module_version": "1.2.0"
        },
        "cbb637bb49e64b12ac3db38e6816eb70": {
          "model_module": "@jupyter-widgets/controls",
          "model_name": "DescriptionStyleModel",
          "state": {
            "_view_name": "StyleView",
            "_model_name": "DescriptionStyleModel",
            "description_width": "",
            "_view_module": "@jupyter-widgets/base",
            "_model_module_version": "1.5.0",
            "_view_count": null,
            "_view_module_version": "1.2.0",
            "_model_module": "@jupyter-widgets/controls"
          },
          "model_module_version": "1.5.0"
        },
        "5afe1dacd9c94faeacb6be3ad4a37a65": {
          "model_module": "@jupyter-widgets/base",
          "model_name": "LayoutModel",
          "state": {
            "_view_name": "LayoutView",
            "grid_template_rows": null,
            "right": null,
            "justify_content": null,
            "_view_module": "@jupyter-widgets/base",
            "overflow": null,
            "_model_module_version": "1.2.0",
            "_view_count": null,
            "flex_flow": null,
            "width": null,
            "min_width": null,
            "border": null,
            "align_items": null,
            "bottom": null,
            "_model_module": "@jupyter-widgets/base",
            "top": null,
            "grid_column": null,
            "overflow_y": null,
            "overflow_x": null,
            "grid_auto_flow": null,
            "grid_area": null,
            "grid_template_columns": null,
            "flex": null,
            "_model_name": "LayoutModel",
            "justify_items": null,
            "grid_row": null,
            "max_height": null,
            "align_content": null,
            "visibility": null,
            "align_self": null,
            "height": null,
            "min_height": null,
            "padding": null,
            "grid_auto_rows": null,
            "grid_gap": null,
            "max_width": null,
            "order": null,
            "_view_module_version": "1.2.0",
            "grid_template_areas": null,
            "object_position": null,
            "object_fit": null,
            "grid_auto_columns": null,
            "margin": null,
            "display": null,
            "left": null
          },
          "model_module_version": "1.2.0"
        },
        "4768da6a352e4a2494bbae5d821d29bb": {
          "model_module": "@jupyter-widgets/controls",
          "model_name": "HBoxModel",
          "state": {
            "_view_name": "HBoxView",
            "_dom_classes": [],
            "_model_name": "HBoxModel",
            "_view_module": "@jupyter-widgets/controls",
            "_model_module_version": "1.5.0",
            "_view_count": null,
            "_view_module_version": "1.5.0",
            "box_style": "",
            "layout": "IPY_MODEL_9c65cb95f05347aea636f29401f36b86",
            "_model_module": "@jupyter-widgets/controls",
            "children": [
              "IPY_MODEL_f72ee87b46a345f1a23a87f3b2408955",
              "IPY_MODEL_c0407d0f5eb0466fb4ac409656992e5b"
            ]
          },
          "model_module_version": "1.5.0"
        },
        "9c65cb95f05347aea636f29401f36b86": {
          "model_module": "@jupyter-widgets/base",
          "model_name": "LayoutModel",
          "state": {
            "_view_name": "LayoutView",
            "grid_template_rows": null,
            "right": null,
            "justify_content": null,
            "_view_module": "@jupyter-widgets/base",
            "overflow": null,
            "_model_module_version": "1.2.0",
            "_view_count": null,
            "flex_flow": null,
            "width": null,
            "min_width": null,
            "border": null,
            "align_items": null,
            "bottom": null,
            "_model_module": "@jupyter-widgets/base",
            "top": null,
            "grid_column": null,
            "overflow_y": null,
            "overflow_x": null,
            "grid_auto_flow": null,
            "grid_area": null,
            "grid_template_columns": null,
            "flex": null,
            "_model_name": "LayoutModel",
            "justify_items": null,
            "grid_row": null,
            "max_height": null,
            "align_content": null,
            "visibility": null,
            "align_self": null,
            "height": null,
            "min_height": null,
            "padding": null,
            "grid_auto_rows": null,
            "grid_gap": null,
            "max_width": null,
            "order": null,
            "_view_module_version": "1.2.0",
            "grid_template_areas": null,
            "object_position": null,
            "object_fit": null,
            "grid_auto_columns": null,
            "margin": null,
            "display": null,
            "left": null
          },
          "model_module_version": "1.2.0"
        },
        "f72ee87b46a345f1a23a87f3b2408955": {
          "model_module": "@jupyter-widgets/controls",
          "model_name": "FloatProgressModel",
          "state": {
            "_view_name": "ProgressView",
            "style": "IPY_MODEL_ea861f09bed84d9aa229578d43c11271",
            "_dom_classes": [],
            "description": "",
            "_model_name": "FloatProgressModel",
            "bar_style": "info",
            "max": 1,
            "_view_module": "@jupyter-widgets/controls",
            "_model_module_version": "1.5.0",
            "value": 0,
            "_view_count": null,
            "_view_module_version": "1.5.0",
            "orientation": "horizontal",
            "min": 0,
            "description_tooltip": null,
            "_model_module": "@jupyter-widgets/controls",
            "layout": "IPY_MODEL_e7fc572f563b4fe8b4ba8a62ef7f2249"
          },
          "model_module_version": "1.5.0"
        },
        "c0407d0f5eb0466fb4ac409656992e5b": {
          "model_module": "@jupyter-widgets/controls",
          "model_name": "HTMLModel",
          "state": {
            "_view_name": "HTMLView",
            "style": "IPY_MODEL_cd411c0f4f7e4b0ca90fd3c1f3e19358",
            "_dom_classes": [],
            "description": "",
            "_model_name": "HTMLModel",
            "placeholder": "​",
            "_view_module": "@jupyter-widgets/controls",
            "_model_module_version": "1.5.0",
            "value": " 0/? [00:00&lt;?, ?it/s]",
            "_view_count": null,
            "_view_module_version": "1.5.0",
            "description_tooltip": null,
            "_model_module": "@jupyter-widgets/controls",
            "layout": "IPY_MODEL_84b0bdef375e4fc1accd52d4c6f2c7b6"
          },
          "model_module_version": "1.5.0"
        },
        "ea861f09bed84d9aa229578d43c11271": {
          "model_module": "@jupyter-widgets/controls",
          "model_name": "ProgressStyleModel",
          "state": {
            "_view_name": "StyleView",
            "_model_name": "ProgressStyleModel",
            "description_width": "initial",
            "_view_module": "@jupyter-widgets/base",
            "_model_module_version": "1.5.0",
            "_view_count": null,
            "_view_module_version": "1.2.0",
            "bar_color": null,
            "_model_module": "@jupyter-widgets/controls"
          },
          "model_module_version": "1.5.0"
        },
        "e7fc572f563b4fe8b4ba8a62ef7f2249": {
          "model_module": "@jupyter-widgets/base",
          "model_name": "LayoutModel",
          "state": {
            "_view_name": "LayoutView",
            "grid_template_rows": null,
            "right": null,
            "justify_content": null,
            "_view_module": "@jupyter-widgets/base",
            "overflow": null,
            "_model_module_version": "1.2.0",
            "_view_count": null,
            "flex_flow": null,
            "width": null,
            "min_width": null,
            "border": null,
            "align_items": null,
            "bottom": null,
            "_model_module": "@jupyter-widgets/base",
            "top": null,
            "grid_column": null,
            "overflow_y": null,
            "overflow_x": null,
            "grid_auto_flow": null,
            "grid_area": null,
            "grid_template_columns": null,
            "flex": null,
            "_model_name": "LayoutModel",
            "justify_items": null,
            "grid_row": null,
            "max_height": null,
            "align_content": null,
            "visibility": null,
            "align_self": null,
            "height": null,
            "min_height": null,
            "padding": null,
            "grid_auto_rows": null,
            "grid_gap": null,
            "max_width": null,
            "order": null,
            "_view_module_version": "1.2.0",
            "grid_template_areas": null,
            "object_position": null,
            "object_fit": null,
            "grid_auto_columns": null,
            "margin": null,
            "display": null,
            "left": null
          },
          "model_module_version": "1.2.0"
        },
        "cd411c0f4f7e4b0ca90fd3c1f3e19358": {
          "model_module": "@jupyter-widgets/controls",
          "model_name": "DescriptionStyleModel",
          "state": {
            "_view_name": "StyleView",
            "_model_name": "DescriptionStyleModel",
            "description_width": "",
            "_view_module": "@jupyter-widgets/base",
            "_model_module_version": "1.5.0",
            "_view_count": null,
            "_view_module_version": "1.2.0",
            "_model_module": "@jupyter-widgets/controls"
          },
          "model_module_version": "1.5.0"
        },
        "84b0bdef375e4fc1accd52d4c6f2c7b6": {
          "model_module": "@jupyter-widgets/base",
          "model_name": "LayoutModel",
          "state": {
            "_view_name": "LayoutView",
            "grid_template_rows": null,
            "right": null,
            "justify_content": null,
            "_view_module": "@jupyter-widgets/base",
            "overflow": null,
            "_model_module_version": "1.2.0",
            "_view_count": null,
            "flex_flow": null,
            "width": null,
            "min_width": null,
            "border": null,
            "align_items": null,
            "bottom": null,
            "_model_module": "@jupyter-widgets/base",
            "top": null,
            "grid_column": null,
            "overflow_y": null,
            "overflow_x": null,
            "grid_auto_flow": null,
            "grid_area": null,
            "grid_template_columns": null,
            "flex": null,
            "_model_name": "LayoutModel",
            "justify_items": null,
            "grid_row": null,
            "max_height": null,
            "align_content": null,
            "visibility": null,
            "align_self": null,
            "height": null,
            "min_height": null,
            "padding": null,
            "grid_auto_rows": null,
            "grid_gap": null,
            "max_width": null,
            "order": null,
            "_view_module_version": "1.2.0",
            "grid_template_areas": null,
            "object_position": null,
            "object_fit": null,
            "grid_auto_columns": null,
            "margin": null,
            "display": null,
            "left": null
          },
          "model_module_version": "1.2.0"
        },
        "a5098ccbc730486a860463a2843a2e2c": {
          "model_module": "@jupyter-widgets/controls",
          "model_name": "HBoxModel",
          "state": {
            "_view_name": "HBoxView",
            "_dom_classes": [],
            "_model_name": "HBoxModel",
            "_view_module": "@jupyter-widgets/controls",
            "_model_module_version": "1.5.0",
            "_view_count": null,
            "_view_module_version": "1.5.0",
            "box_style": "",
            "layout": "IPY_MODEL_32f69818f1bb40668c932ea0c1c91dcb",
            "_model_module": "@jupyter-widgets/controls",
            "children": [
              "IPY_MODEL_fe8fbaaeb0fc40aaa8b25f716dd114a0",
              "IPY_MODEL_05e0fd571f814435b61ccbce4e88357a"
            ]
          },
          "model_module_version": "1.5.0"
        },
        "32f69818f1bb40668c932ea0c1c91dcb": {
          "model_module": "@jupyter-widgets/base",
          "model_name": "LayoutModel",
          "state": {
            "_view_name": "LayoutView",
            "grid_template_rows": null,
            "right": null,
            "justify_content": null,
            "_view_module": "@jupyter-widgets/base",
            "overflow": null,
            "_model_module_version": "1.2.0",
            "_view_count": null,
            "flex_flow": null,
            "width": null,
            "min_width": null,
            "border": null,
            "align_items": null,
            "bottom": null,
            "_model_module": "@jupyter-widgets/base",
            "top": null,
            "grid_column": null,
            "overflow_y": null,
            "overflow_x": null,
            "grid_auto_flow": null,
            "grid_area": null,
            "grid_template_columns": null,
            "flex": null,
            "_model_name": "LayoutModel",
            "justify_items": null,
            "grid_row": null,
            "max_height": null,
            "align_content": null,
            "visibility": null,
            "align_self": null,
            "height": null,
            "min_height": null,
            "padding": null,
            "grid_auto_rows": null,
            "grid_gap": null,
            "max_width": null,
            "order": null,
            "_view_module_version": "1.2.0",
            "grid_template_areas": null,
            "object_position": null,
            "object_fit": null,
            "grid_auto_columns": null,
            "margin": null,
            "display": null,
            "left": null
          },
          "model_module_version": "1.2.0"
        },
        "fe8fbaaeb0fc40aaa8b25f716dd114a0": {
          "model_module": "@jupyter-widgets/controls",
          "model_name": "FloatProgressModel",
          "state": {
            "_view_name": "ProgressView",
            "style": "IPY_MODEL_38c5cc4b39764e3290f96a46ed317a9c",
            "_dom_classes": [],
            "description": "",
            "_model_name": "FloatProgressModel",
            "bar_style": "success",
            "max": 1,
            "_view_module": "@jupyter-widgets/controls",
            "_model_module_version": "1.5.0",
            "value": 1,
            "_view_count": null,
            "_view_module_version": "1.5.0",
            "orientation": "horizontal",
            "min": 0,
            "description_tooltip": null,
            "_model_module": "@jupyter-widgets/controls",
            "layout": "IPY_MODEL_4d8faa1f4f82415089ce1a377a78088a"
          },
          "model_module_version": "1.5.0"
        },
        "05e0fd571f814435b61ccbce4e88357a": {
          "model_module": "@jupyter-widgets/controls",
          "model_name": "HTMLModel",
          "state": {
            "_view_name": "HTMLView",
            "style": "IPY_MODEL_1e031f8324694b8788c0137a4ab10d09",
            "_dom_classes": [],
            "description": "",
            "_model_name": "HTMLModel",
            "placeholder": "​",
            "_view_module": "@jupyter-widgets/controls",
            "_model_module_version": "1.5.0",
            "value": " 1654784/? [00:06&lt;00:00, 270616.13it/s]",
            "_view_count": null,
            "_view_module_version": "1.5.0",
            "description_tooltip": null,
            "_model_module": "@jupyter-widgets/controls",
            "layout": "IPY_MODEL_694d50de0d2049a4b11881bfecdbb209"
          },
          "model_module_version": "1.5.0"
        },
        "38c5cc4b39764e3290f96a46ed317a9c": {
          "model_module": "@jupyter-widgets/controls",
          "model_name": "ProgressStyleModel",
          "state": {
            "_view_name": "StyleView",
            "_model_name": "ProgressStyleModel",
            "description_width": "initial",
            "_view_module": "@jupyter-widgets/base",
            "_model_module_version": "1.5.0",
            "_view_count": null,
            "_view_module_version": "1.2.0",
            "bar_color": null,
            "_model_module": "@jupyter-widgets/controls"
          },
          "model_module_version": "1.5.0"
        },
        "4d8faa1f4f82415089ce1a377a78088a": {
          "model_module": "@jupyter-widgets/base",
          "model_name": "LayoutModel",
          "state": {
            "_view_name": "LayoutView",
            "grid_template_rows": null,
            "right": null,
            "justify_content": null,
            "_view_module": "@jupyter-widgets/base",
            "overflow": null,
            "_model_module_version": "1.2.0",
            "_view_count": null,
            "flex_flow": null,
            "width": null,
            "min_width": null,
            "border": null,
            "align_items": null,
            "bottom": null,
            "_model_module": "@jupyter-widgets/base",
            "top": null,
            "grid_column": null,
            "overflow_y": null,
            "overflow_x": null,
            "grid_auto_flow": null,
            "grid_area": null,
            "grid_template_columns": null,
            "flex": null,
            "_model_name": "LayoutModel",
            "justify_items": null,
            "grid_row": null,
            "max_height": null,
            "align_content": null,
            "visibility": null,
            "align_self": null,
            "height": null,
            "min_height": null,
            "padding": null,
            "grid_auto_rows": null,
            "grid_gap": null,
            "max_width": null,
            "order": null,
            "_view_module_version": "1.2.0",
            "grid_template_areas": null,
            "object_position": null,
            "object_fit": null,
            "grid_auto_columns": null,
            "margin": null,
            "display": null,
            "left": null
          },
          "model_module_version": "1.2.0"
        },
        "1e031f8324694b8788c0137a4ab10d09": {
          "model_module": "@jupyter-widgets/controls",
          "model_name": "DescriptionStyleModel",
          "state": {
            "_view_name": "StyleView",
            "_model_name": "DescriptionStyleModel",
            "description_width": "",
            "_view_module": "@jupyter-widgets/base",
            "_model_module_version": "1.5.0",
            "_view_count": null,
            "_view_module_version": "1.2.0",
            "_model_module": "@jupyter-widgets/controls"
          },
          "model_module_version": "1.5.0"
        },
        "694d50de0d2049a4b11881bfecdbb209": {
          "model_module": "@jupyter-widgets/base",
          "model_name": "LayoutModel",
          "state": {
            "_view_name": "LayoutView",
            "grid_template_rows": null,
            "right": null,
            "justify_content": null,
            "_view_module": "@jupyter-widgets/base",
            "overflow": null,
            "_model_module_version": "1.2.0",
            "_view_count": null,
            "flex_flow": null,
            "width": null,
            "min_width": null,
            "border": null,
            "align_items": null,
            "bottom": null,
            "_model_module": "@jupyter-widgets/base",
            "top": null,
            "grid_column": null,
            "overflow_y": null,
            "overflow_x": null,
            "grid_auto_flow": null,
            "grid_area": null,
            "grid_template_columns": null,
            "flex": null,
            "_model_name": "LayoutModel",
            "justify_items": null,
            "grid_row": null,
            "max_height": null,
            "align_content": null,
            "visibility": null,
            "align_self": null,
            "height": null,
            "min_height": null,
            "padding": null,
            "grid_auto_rows": null,
            "grid_gap": null,
            "max_width": null,
            "order": null,
            "_view_module_version": "1.2.0",
            "grid_template_areas": null,
            "object_position": null,
            "object_fit": null,
            "grid_auto_columns": null,
            "margin": null,
            "display": null,
            "left": null
          },
          "model_module_version": "1.2.0"
        },
        "a0304b1d492a49ea981af3c44c2ac712": {
          "model_module": "@jupyter-widgets/controls",
          "model_name": "HBoxModel",
          "state": {
            "_view_name": "HBoxView",
            "_dom_classes": [],
            "_model_name": "HBoxModel",
            "_view_module": "@jupyter-widgets/controls",
            "_model_module_version": "1.5.0",
            "_view_count": null,
            "_view_module_version": "1.5.0",
            "box_style": "",
            "layout": "IPY_MODEL_aed77a9bcdf2418e9b0fae29f9f9a54b",
            "_model_module": "@jupyter-widgets/controls",
            "children": [
              "IPY_MODEL_fd6c27d20fea4d23ad310823794c8742",
              "IPY_MODEL_242c686b8d9e4e659459af3553364633"
            ]
          },
          "model_module_version": "1.5.0"
        },
        "aed77a9bcdf2418e9b0fae29f9f9a54b": {
          "model_module": "@jupyter-widgets/base",
          "model_name": "LayoutModel",
          "state": {
            "_view_name": "LayoutView",
            "grid_template_rows": null,
            "right": null,
            "justify_content": null,
            "_view_module": "@jupyter-widgets/base",
            "overflow": null,
            "_model_module_version": "1.2.0",
            "_view_count": null,
            "flex_flow": null,
            "width": null,
            "min_width": null,
            "border": null,
            "align_items": null,
            "bottom": null,
            "_model_module": "@jupyter-widgets/base",
            "top": null,
            "grid_column": null,
            "overflow_y": null,
            "overflow_x": null,
            "grid_auto_flow": null,
            "grid_area": null,
            "grid_template_columns": null,
            "flex": null,
            "_model_name": "LayoutModel",
            "justify_items": null,
            "grid_row": null,
            "max_height": null,
            "align_content": null,
            "visibility": null,
            "align_self": null,
            "height": null,
            "min_height": null,
            "padding": null,
            "grid_auto_rows": null,
            "grid_gap": null,
            "max_width": null,
            "order": null,
            "_view_module_version": "1.2.0",
            "grid_template_areas": null,
            "object_position": null,
            "object_fit": null,
            "grid_auto_columns": null,
            "margin": null,
            "display": null,
            "left": null
          },
          "model_module_version": "1.2.0"
        },
        "fd6c27d20fea4d23ad310823794c8742": {
          "model_module": "@jupyter-widgets/controls",
          "model_name": "FloatProgressModel",
          "state": {
            "_view_name": "ProgressView",
            "style": "IPY_MODEL_dfca0f705563424f927802057759a8e9",
            "_dom_classes": [],
            "description": "",
            "_model_name": "FloatProgressModel",
            "bar_style": "success",
            "max": 1,
            "_view_module": "@jupyter-widgets/controls",
            "_model_module_version": "1.5.0",
            "value": 1,
            "_view_count": null,
            "_view_module_version": "1.5.0",
            "orientation": "horizontal",
            "min": 0,
            "description_tooltip": null,
            "_model_module": "@jupyter-widgets/controls",
            "layout": "IPY_MODEL_6dd02339a4df4007909c32c73601d6f2"
          },
          "model_module_version": "1.5.0"
        },
        "242c686b8d9e4e659459af3553364633": {
          "model_module": "@jupyter-widgets/controls",
          "model_name": "HTMLModel",
          "state": {
            "_view_name": "HTMLView",
            "style": "IPY_MODEL_39b6d59f3ea54dec877f6df9d33b25ea",
            "_dom_classes": [],
            "description": "",
            "_model_name": "HTMLModel",
            "placeholder": "​",
            "_view_module": "@jupyter-widgets/controls",
            "_model_module_version": "1.5.0",
            "value": " 8192/? [00:05&lt;00:00, 1387.78it/s]",
            "_view_count": null,
            "_view_module_version": "1.5.0",
            "description_tooltip": null,
            "_model_module": "@jupyter-widgets/controls",
            "layout": "IPY_MODEL_b8ac8a88c793439b9e50aa91f34e424f"
          },
          "model_module_version": "1.5.0"
        },
        "dfca0f705563424f927802057759a8e9": {
          "model_module": "@jupyter-widgets/controls",
          "model_name": "ProgressStyleModel",
          "state": {
            "_view_name": "StyleView",
            "_model_name": "ProgressStyleModel",
            "description_width": "initial",
            "_view_module": "@jupyter-widgets/base",
            "_model_module_version": "1.5.0",
            "_view_count": null,
            "_view_module_version": "1.2.0",
            "bar_color": null,
            "_model_module": "@jupyter-widgets/controls"
          },
          "model_module_version": "1.5.0"
        },
        "6dd02339a4df4007909c32c73601d6f2": {
          "model_module": "@jupyter-widgets/base",
          "model_name": "LayoutModel",
          "state": {
            "_view_name": "LayoutView",
            "grid_template_rows": null,
            "right": null,
            "justify_content": null,
            "_view_module": "@jupyter-widgets/base",
            "overflow": null,
            "_model_module_version": "1.2.0",
            "_view_count": null,
            "flex_flow": null,
            "width": null,
            "min_width": null,
            "border": null,
            "align_items": null,
            "bottom": null,
            "_model_module": "@jupyter-widgets/base",
            "top": null,
            "grid_column": null,
            "overflow_y": null,
            "overflow_x": null,
            "grid_auto_flow": null,
            "grid_area": null,
            "grid_template_columns": null,
            "flex": null,
            "_model_name": "LayoutModel",
            "justify_items": null,
            "grid_row": null,
            "max_height": null,
            "align_content": null,
            "visibility": null,
            "align_self": null,
            "height": null,
            "min_height": null,
            "padding": null,
            "grid_auto_rows": null,
            "grid_gap": null,
            "max_width": null,
            "order": null,
            "_view_module_version": "1.2.0",
            "grid_template_areas": null,
            "object_position": null,
            "object_fit": null,
            "grid_auto_columns": null,
            "margin": null,
            "display": null,
            "left": null
          },
          "model_module_version": "1.2.0"
        },
        "39b6d59f3ea54dec877f6df9d33b25ea": {
          "model_module": "@jupyter-widgets/controls",
          "model_name": "DescriptionStyleModel",
          "state": {
            "_view_name": "StyleView",
            "_model_name": "DescriptionStyleModel",
            "description_width": "",
            "_view_module": "@jupyter-widgets/base",
            "_model_module_version": "1.5.0",
            "_view_count": null,
            "_view_module_version": "1.2.0",
            "_model_module": "@jupyter-widgets/controls"
          },
          "model_module_version": "1.5.0"
        },
        "b8ac8a88c793439b9e50aa91f34e424f": {
          "model_module": "@jupyter-widgets/base",
          "model_name": "LayoutModel",
          "state": {
            "_view_name": "LayoutView",
            "grid_template_rows": null,
            "right": null,
            "justify_content": null,
            "_view_module": "@jupyter-widgets/base",
            "overflow": null,
            "_model_module_version": "1.2.0",
            "_view_count": null,
            "flex_flow": null,
            "width": null,
            "min_width": null,
            "border": null,
            "align_items": null,
            "bottom": null,
            "_model_module": "@jupyter-widgets/base",
            "top": null,
            "grid_column": null,
            "overflow_y": null,
            "overflow_x": null,
            "grid_auto_flow": null,
            "grid_area": null,
            "grid_template_columns": null,
            "flex": null,
            "_model_name": "LayoutModel",
            "justify_items": null,
            "grid_row": null,
            "max_height": null,
            "align_content": null,
            "visibility": null,
            "align_self": null,
            "height": null,
            "min_height": null,
            "padding": null,
            "grid_auto_rows": null,
            "grid_gap": null,
            "max_width": null,
            "order": null,
            "_view_module_version": "1.2.0",
            "grid_template_areas": null,
            "object_position": null,
            "object_fit": null,
            "grid_auto_columns": null,
            "margin": null,
            "display": null,
            "left": null
          },
          "model_module_version": "1.2.0"
        }
      }
    }
  },
  "cells": [
    {
      "cell_type": "markdown",
      "metadata": {
        "id": "view-in-github",
        "colab_type": "text"
      },
      "source": [
        "<a href=\"https://colab.research.google.com/github/luanakwon/ML_Pytorch_pre2022/blob/main/GAN_PR.ipynb\" target=\"_parent\"><img src=\"https://colab.research.google.com/assets/colab-badge.svg\" alt=\"Open In Colab\"/></a>"
      ]
    },
    {
      "cell_type": "markdown",
      "source": [
        "First attempt of GAN model using mnist dataset.  \n",
        "(probably failed)"
      ],
      "metadata": {
        "id": "fJlUfCHnI14X"
      }
    },
    {
      "cell_type": "code",
      "metadata": {
        "id": "yXeCgQWzsUyz"
      },
      "source": [
        "import torch\n",
        "import torch.nn as nn\n",
        "import torch.optim as optimizer\n",
        "import torch.nn.init as init\n",
        "import torchvision.datasets as dset\n",
        "import torchvision.transforms as transforms\n",
        "from torch.utils.data import DataLoader\n",
        "import matplotlib.pyplot as plt"
      ],
      "execution_count": null,
      "outputs": []
    },
    {
      "cell_type": "code",
      "metadata": {
        "id": "3ZWr48M_SYve",
        "colab": {
          "base_uri": "https://localhost:8080/"
        },
        "outputId": "c10edf4b-fed1-4bb8-ddc3-f4f02dcfd376"
      },
      "source": [
        "from google.colab import drive\n",
        "drive.mount('/content/drive')"
      ],
      "execution_count": null,
      "outputs": [
        {
          "output_type": "stream",
          "text": [
            "Mounted at /content/drive\n"
          ],
          "name": "stdout"
        }
      ]
    },
    {
      "cell_type": "code",
      "metadata": {
        "id": "kJEY2rAdtBk7"
      },
      "source": [
        "# HyperParameters\n",
        "\n",
        "z_len = 50\n",
        "middle_size = 400\n",
        "batch_size = 128\n",
        "learning_rate = 0.0001\n",
        "num_epoch = 60"
      ],
      "execution_count": null,
      "outputs": []
    },
    {
      "cell_type": "code",
      "metadata": {
        "id": "FVt2IZgBtPN8",
        "colab": {
          "base_uri": "https://localhost:8080/",
          "height": 389,
          "referenced_widgets": [
            "0d638f6e68424dafa54969be9ea14d21",
            "911d30003a6a45ed8e1ede65e1776986",
            "5bd9951ed780441a9f9197635fa82abd",
            "8c15377d98754954bcd955917d054138",
            "932463c25d174790b2c88ce260e11d17",
            "05b48da60c6943bda19ee7e34c57ae66",
            "cbb637bb49e64b12ac3db38e6816eb70",
            "5afe1dacd9c94faeacb6be3ad4a37a65",
            "4768da6a352e4a2494bbae5d821d29bb",
            "9c65cb95f05347aea636f29401f36b86",
            "f72ee87b46a345f1a23a87f3b2408955",
            "c0407d0f5eb0466fb4ac409656992e5b",
            "ea861f09bed84d9aa229578d43c11271",
            "e7fc572f563b4fe8b4ba8a62ef7f2249",
            "cd411c0f4f7e4b0ca90fd3c1f3e19358",
            "84b0bdef375e4fc1accd52d4c6f2c7b6",
            "a5098ccbc730486a860463a2843a2e2c",
            "32f69818f1bb40668c932ea0c1c91dcb",
            "fe8fbaaeb0fc40aaa8b25f716dd114a0",
            "05e0fd571f814435b61ccbce4e88357a",
            "38c5cc4b39764e3290f96a46ed317a9c",
            "4d8faa1f4f82415089ce1a377a78088a",
            "1e031f8324694b8788c0137a4ab10d09",
            "694d50de0d2049a4b11881bfecdbb209",
            "a0304b1d492a49ea981af3c44c2ac712",
            "aed77a9bcdf2418e9b0fae29f9f9a54b",
            "fd6c27d20fea4d23ad310823794c8742",
            "242c686b8d9e4e659459af3553364633",
            "dfca0f705563424f927802057759a8e9",
            "6dd02339a4df4007909c32c73601d6f2",
            "39b6d59f3ea54dec877f6df9d33b25ea",
            "b8ac8a88c793439b9e50aa91f34e424f"
          ]
        },
        "outputId": "bca62c8d-2146-4668-d72e-46793a98e73d"
      },
      "source": [
        "'''\n",
        "mnist dataset download\n",
        "생성자와 구별자의 경쟁이기 때문에 testset은 받지 않음\n",
        "'''\n",
        "\n",
        "mnist_train = dset.MNIST(\"./\",train=True, transform=transforms.ToTensor(),target_transform=None, download=True)\n",
        "\n",
        "train_loader = torch.utils.data.DataLoader(mnist_train, batch_size=batch_size, shuffle=True, num_workers=2, drop_last=True)"
      ],
      "execution_count": null,
      "outputs": [
        {
          "output_type": "stream",
          "text": [
            "Downloading http://yann.lecun.com/exdb/mnist/train-images-idx3-ubyte.gz to ./MNIST/raw/train-images-idx3-ubyte.gz\n"
          ],
          "name": "stdout"
        },
        {
          "output_type": "display_data",
          "data": {
            "application/vnd.jupyter.widget-view+json": {
              "model_id": "0d638f6e68424dafa54969be9ea14d21",
              "version_minor": 0,
              "version_major": 2
            },
            "text/plain": [
              "HBox(children=(FloatProgress(value=1.0, bar_style='info', max=1.0), HTML(value='')))"
            ]
          },
          "metadata": {
            "tags": []
          }
        },
        {
          "output_type": "stream",
          "text": [
            "Extracting ./MNIST/raw/train-images-idx3-ubyte.gz to ./MNIST/raw\n",
            "Downloading http://yann.lecun.com/exdb/mnist/train-labels-idx1-ubyte.gz to ./MNIST/raw/train-labels-idx1-ubyte.gz\n"
          ],
          "name": "stdout"
        },
        {
          "output_type": "display_data",
          "data": {
            "application/vnd.jupyter.widget-view+json": {
              "model_id": "4768da6a352e4a2494bbae5d821d29bb",
              "version_minor": 0,
              "version_major": 2
            },
            "text/plain": [
              "HBox(children=(FloatProgress(value=1.0, bar_style='info', max=1.0), HTML(value='')))"
            ]
          },
          "metadata": {
            "tags": []
          }
        },
        {
          "output_type": "stream",
          "text": [
            "Extracting ./MNIST/raw/train-labels-idx1-ubyte.gz to ./MNIST/raw\n",
            "Downloading http://yann.lecun.com/exdb/mnist/t10k-images-idx3-ubyte.gz to ./MNIST/raw/t10k-images-idx3-ubyte.gz\n"
          ],
          "name": "stdout"
        },
        {
          "output_type": "display_data",
          "data": {
            "application/vnd.jupyter.widget-view+json": {
              "model_id": "a5098ccbc730486a860463a2843a2e2c",
              "version_minor": 0,
              "version_major": 2
            },
            "text/plain": [
              "HBox(children=(FloatProgress(value=1.0, bar_style='info', max=1.0), HTML(value='')))"
            ]
          },
          "metadata": {
            "tags": []
          }
        },
        {
          "output_type": "stream",
          "text": [
            "Extracting ./MNIST/raw/t10k-images-idx3-ubyte.gz to ./MNIST/raw\n",
            "Downloading http://yann.lecun.com/exdb/mnist/t10k-labels-idx1-ubyte.gz to ./MNIST/raw/t10k-labels-idx1-ubyte.gz\n"
          ],
          "name": "stdout"
        },
        {
          "output_type": "display_data",
          "data": {
            "application/vnd.jupyter.widget-view+json": {
              "model_id": "a0304b1d492a49ea981af3c44c2ac712",
              "version_minor": 0,
              "version_major": 2
            },
            "text/plain": [
              "HBox(children=(FloatProgress(value=1.0, bar_style='info', max=1.0), HTML(value='')))"
            ]
          },
          "metadata": {
            "tags": []
          }
        },
        {
          "output_type": "stream",
          "text": [
            "Extracting ./MNIST/raw/t10k-labels-idx1-ubyte.gz to ./MNIST/raw\n",
            "Processing...\n",
            "Done!\n"
          ],
          "name": "stdout"
        },
        {
          "output_type": "stream",
          "text": [
            "/usr/local/lib/python3.6/dist-packages/torchvision/datasets/mnist.py:480: UserWarning: The given NumPy array is not writeable, and PyTorch does not support non-writeable tensors. This means you can write to the underlying (supposedly non-writeable) NumPy array using the tensor. You may want to copy the array to protect its data or make it writeable before converting it to a tensor. This type of warning will be suppressed for the rest of this program. (Triggered internally at  /pytorch/torch/csrc/utils/tensor_numpy.cpp:141.)\n",
            "  return torch.from_numpy(parsed.astype(m[2], copy=False)).view(*s)\n"
          ],
          "name": "stderr"
        }
      ]
    },
    {
      "cell_type": "code",
      "metadata": {
        "id": "FOCs-ncytZd0"
      },
      "source": [
        "'''\n",
        "기본 생성자. cnn을 써야되는데, 어떻게 쓸 수 있는지 모르겠어서 우선 기본으로 둠\n",
        "맨 처음 z를 100에서 2*2*64로 프로젝션 하는 부분은 학습하지 않음(requires_grad = False)\n",
        "이후 conv레이어만 학습하기 위해 임시로 layer_conv를 선형모델로 둠\n",
        "'''\n",
        "class Generator(nn.Module):\n",
        "  def __init__(self):\n",
        "    super(Generator, self).__init__()\n",
        "    self.layer_lin = nn.Linear(z_len,2*2*64)\n",
        "    self.layer_conv = nn.Linear(1,1) # \n",
        "\n",
        "  def forward(self,x):\n",
        "    out = self.layer_lin(x)\n",
        "    out = out.view(batch_size,64,2,2)\n",
        "    out = self.layer_conv(out)\n",
        "    #print(out.shape)\n",
        "    return  out\n",
        "\n",
        "gen_layer_conv = nn.Sequential(\n",
        "        nn.ConvTranspose2d(64,32,2,2),\n",
        "        nn.ReLU(),\n",
        "        nn.BatchNorm2d(32),\n",
        "        nn.ConvTranspose2d(32,16,4,1),#(i-1)*s + k\n",
        "        nn.ReLU(),\n",
        "        nn.BatchNorm2d(16),\n",
        "        nn.ConvTranspose2d(16,8,2,2),\n",
        "        nn.ReLU(),\n",
        "        nn.BatchNorm2d(8),\n",
        "        nn.ConvTranspose2d(8,1,2,2),\n",
        "        nn.Sigmoid()\n",
        "    )\n"
      ],
      "execution_count": null,
      "outputs": []
    },
    {
      "cell_type": "markdown",
      "metadata": {
        "id": "t1_-12UMzgM4"
      },
      "source": [
        "nn.ReLU(),\n",
        "        nn.BatchNorm2d(32),\n",
        "        nn.ConvTranspose2d(64,32,7),\n",
        "        nn.ReLU(),\n",
        "        nn.BatchNorm2d(32),\n",
        "        nn.ConvTranspose2d(32,16,7),\n",
        "        nn.ReLU(),\n",
        "        nn.BatchNorm2d(16),\n",
        "        nn.ConvTranspose2d(16,8,8,),\n",
        "        nn.Sigmoid()"
      ]
    },
    {
      "cell_type": "code",
      "metadata": {
        "id": "87PvFBIKveH4"
      },
      "source": [
        "'''\n",
        "구별자. 기본으로는 성능이 떨어진다고 해서 합성곱레이어 추가\n",
        "'''\n",
        "\n",
        "class Discriminator(nn.Module):\n",
        "  def __init__(self):\n",
        "    super(Discriminator, self).__init__()\n",
        "    self.layer0 = nn.Sequential(\n",
        "      nn.Linear(784,400),\n",
        "      nn.LeakyReLU(),\n",
        "      nn.BatchNorm1d(400),\n",
        "      nn.Linear(400,150),\n",
        "      nn.LeakyReLU(),\n",
        "      nn.BatchNorm1d(150),\n",
        "      nn.Linear(150,1),\n",
        "      nn.Sigmoid()\n",
        "    )\n",
        "    self.layer_conv = nn.Sequential(\n",
        "      nn.Conv2d(1,16,4,2),\n",
        "      nn.LeakyReLU(),\n",
        "      nn.BatchNorm2d(16),\n",
        "      nn.Conv2d(16,32,5,2),\n",
        "      nn.LeakyReLU(),\n",
        "      nn.BatchNorm2d(32),\n",
        "      nn.Conv2d(32,16,3,2),\n",
        "      nn.LeakyReLU(),\n",
        "      nn.BatchNorm2d(16),\n",
        "      nn.Conv2d(16,1,2),\n",
        "      nn.Sigmoid()\n",
        "    )\n",
        "  def forward(self, x):\n",
        "    out = self.layer_conv(x)\n",
        "    out = out.view(batch_size,-1)\n",
        "    return out"
      ],
      "execution_count": null,
      "outputs": []
    },
    {
      "cell_type": "code",
      "metadata": {
        "id": "gWblPXQ9xTOz"
      },
      "source": [
        "'''\n",
        "device에 올리기. DataParellel을 쓰니까 dis_loss할때 cpu에 텐서가 있대서 이렇게 바꿈. 느려도 작동함\n",
        "'''\n",
        "device = torch.device(\"cuda:0\" if torch.cuda.is_available() else \"cpu\")\n",
        "\n",
        "generator = Generator().to(device)\n",
        "discriminator = Discriminator().to(device)\n",
        "\n",
        "\n",
        "#generator = nn.DataParallel(Generator())\n",
        "#discriminator = nn.DataParallel(Discriminator())"
      ],
      "execution_count": null,
      "outputs": []
    },
    {
      "cell_type": "code",
      "metadata": {
        "id": "7yt_LeX1ylPf"
      },
      "source": [
        "for param in generator.parameters():\n",
        "  param.requires_grad = False\n",
        "generator.layer_conv = gen_layer_conv.to(device)"
      ],
      "execution_count": null,
      "outputs": []
    },
    {
      "cell_type": "code",
      "metadata": {
        "colab": {
          "base_uri": "https://localhost:8080/"
        },
        "id": "pH83BeNezOcs",
        "outputId": "2ecda065-0bac-4347-ec46-c3b5cc6e48ba"
      },
      "source": [
        "print(generator)"
      ],
      "execution_count": null,
      "outputs": [
        {
          "output_type": "stream",
          "text": [
            "Generator(\n",
            "  (layer_lin): Linear(in_features=50, out_features=256, bias=True)\n",
            "  (layer_conv): Sequential(\n",
            "    (0): ConvTranspose2d(64, 32, kernel_size=(2, 2), stride=(2, 2))\n",
            "    (1): ReLU()\n",
            "    (2): BatchNorm2d(32, eps=1e-05, momentum=0.1, affine=True, track_running_stats=True)\n",
            "    (3): ConvTranspose2d(32, 16, kernel_size=(4, 4), stride=(1, 1))\n",
            "    (4): ReLU()\n",
            "    (5): BatchNorm2d(16, eps=1e-05, momentum=0.1, affine=True, track_running_stats=True)\n",
            "    (6): ConvTranspose2d(16, 8, kernel_size=(2, 2), stride=(2, 2))\n",
            "    (7): ReLU()\n",
            "    (8): BatchNorm2d(8, eps=1e-05, momentum=0.1, affine=True, track_running_stats=True)\n",
            "    (9): ConvTranspose2d(8, 1, kernel_size=(2, 2), stride=(2, 2))\n",
            "    (10): Sigmoid()\n",
            "  )\n",
            ")\n"
          ],
          "name": "stdout"
        }
      ]
    },
    {
      "cell_type": "code",
      "metadata": {
        "id": "THhbRUqOlQZE"
      },
      "source": [
        ""
      ],
      "execution_count": null,
      "outputs": []
    },
    {
      "cell_type": "code",
      "metadata": {
        "id": "DSKhw8k0xae3"
      },
      "source": [
        "loss_func = nn.BCELoss()\n",
        "gen_optim = optimizer.Adam(generator.parameters(),lr=learning_rate*1, betas=(0.5,0.999))\n",
        "dis_optim = optimizer.Adam(discriminator.parameters(),lr=learning_rate,betas=(0.5,0.999))\n",
        "\n",
        "ones_label = torch.ones(batch_size,1).to(device)\n",
        "zeros_label = torch.zeros(batch_size,1).to(device)"
      ],
      "execution_count": null,
      "outputs": []
    },
    {
      "cell_type": "code",
      "metadata": {
        "id": "2QSnLMoIyymC",
        "colab": {
          "base_uri": "https://localhost:8080/",
          "height": 480
        },
        "outputId": "f7383ee6-a01f-4713-ebab-f1eeba7f7691"
      },
      "source": [
        "'''\n",
        "학습과정 lr을 조금 바꿔봤는데도, 얼마 안가서 gen_loss = 0.25, dis_loss는 0.5로 수렴해버림. 왜?\n",
        "'''\n",
        "for i in range(num_epoch):\n",
        "  for j, (image,label) in enumerate(train_loader):\n",
        "    #discriminator learning\n",
        "    \n",
        "    dis_optim.zero_grad()\n",
        "\n",
        "    z = init.normal_(torch.Tensor(batch_size,z_len),std=1).to(device)\n",
        "    gen_fake = generator.forward(z)\n",
        "    dis_fake = discriminator.forward(gen_fake)\n",
        "\n",
        "    image = image.to(device)\n",
        "    dis_real = discriminator.forward(image)\n",
        "    #dis_loss = torch.mean(loss_func(dis_fake, zeros_label)) + torch.mean(loss_func(dis_real, ones_label))\n",
        "    dis_loss = torch.mean(dis_fake) + torch.mean(1- dis_real)\n",
        "    if j%1000 == 0:\n",
        "      #print(torch.sum(loss_func(dis_fake, zeros_label)).item(), torch.sum(loss_func(dis_real, ones_label)).item(),end=' ')\n",
        "      print(\"%d dis_fake : %0.4f   dis_real : %0.4f    \" % (i, torch.sum(dis_fake).item()/256 ,torch.sum(dis_real).item()/256), end='')\n",
        "    dis_loss.backward()\n",
        "    dis_optim.step()\n",
        "      \n",
        "    for k in range(2):\n",
        "      #generator learning\n",
        "      gen_optim.zero_grad()\n",
        "\n",
        "      z = init.normal_(torch.Tensor(batch_size,z_len),std=1).to(device)\n",
        "      gen_fake = generator.forward(z)\n",
        "      dis_fake = discriminator.forward(gen_fake)\n",
        "\n",
        "      #gen_loss = torch.mean(loss_func(dis_fake,ones_label))\n",
        "      gen_loss = torch.mean(1 - dis_fake)\n",
        "      gen_loss.backward()\n",
        "      gen_optim.step()\n",
        "\n",
        "\n",
        "    if j%1000 == 0:\n",
        "      print(\"gen_fake: %0.4f\" %(torch.sum(dis_fake).item()/256))"
      ],
      "execution_count": null,
      "outputs": [
        {
          "output_type": "stream",
          "text": [
            "0 dis_fake : 0.2518   dis_real : 0.2625    gen_fake: 0.2564\n",
            "1 dis_fake : 0.2425   dis_real : 0.4855    gen_fake: 0.2512\n",
            "2 dis_fake : 0.1948   dis_real : 0.4889    gen_fake: 0.1995\n",
            "3 dis_fake : 0.1431   dis_real : 0.4903    gen_fake: 0.1349\n"
          ],
          "name": "stdout"
        },
        {
          "output_type": "error",
          "ename": "KeyboardInterrupt",
          "evalue": "ignored",
          "traceback": [
            "\u001b[0;31m---------------------------------------------------------------------------\u001b[0m",
            "\u001b[0;31mKeyboardInterrupt\u001b[0m                         Traceback (most recent call last)",
            "\u001b[0;32m<ipython-input-22-610020e299da>\u001b[0m in \u001b[0;36m<module>\u001b[0;34m()\u001b[0m\n\u001b[1;32m     32\u001b[0m       \u001b[0;31m#gen_loss = torch.mean(loss_func(dis_fake,ones_label))\u001b[0m\u001b[0;34m\u001b[0m\u001b[0;34m\u001b[0m\u001b[0;34m\u001b[0m\u001b[0m\n\u001b[1;32m     33\u001b[0m       \u001b[0mgen_loss\u001b[0m \u001b[0;34m=\u001b[0m \u001b[0mtorch\u001b[0m\u001b[0;34m.\u001b[0m\u001b[0mmean\u001b[0m\u001b[0;34m(\u001b[0m\u001b[0;36m1\u001b[0m \u001b[0;34m-\u001b[0m \u001b[0mdis_fake\u001b[0m\u001b[0;34m)\u001b[0m\u001b[0;34m\u001b[0m\u001b[0;34m\u001b[0m\u001b[0m\n\u001b[0;32m---> 34\u001b[0;31m       \u001b[0mgen_loss\u001b[0m\u001b[0;34m.\u001b[0m\u001b[0mbackward\u001b[0m\u001b[0;34m(\u001b[0m\u001b[0;34m)\u001b[0m\u001b[0;34m\u001b[0m\u001b[0;34m\u001b[0m\u001b[0m\n\u001b[0m\u001b[1;32m     35\u001b[0m       \u001b[0mgen_optim\u001b[0m\u001b[0;34m.\u001b[0m\u001b[0mstep\u001b[0m\u001b[0;34m(\u001b[0m\u001b[0;34m)\u001b[0m\u001b[0;34m\u001b[0m\u001b[0;34m\u001b[0m\u001b[0m\n\u001b[1;32m     36\u001b[0m \u001b[0;34m\u001b[0m\u001b[0m\n",
            "\u001b[0;32m/usr/local/lib/python3.6/dist-packages/torch/tensor.py\u001b[0m in \u001b[0;36mbackward\u001b[0;34m(self, gradient, retain_graph, create_graph)\u001b[0m\n\u001b[1;32m    219\u001b[0m                 \u001b[0mretain_graph\u001b[0m\u001b[0;34m=\u001b[0m\u001b[0mretain_graph\u001b[0m\u001b[0;34m,\u001b[0m\u001b[0;34m\u001b[0m\u001b[0;34m\u001b[0m\u001b[0m\n\u001b[1;32m    220\u001b[0m                 create_graph=create_graph)\n\u001b[0;32m--> 221\u001b[0;31m         \u001b[0mtorch\u001b[0m\u001b[0;34m.\u001b[0m\u001b[0mautograd\u001b[0m\u001b[0;34m.\u001b[0m\u001b[0mbackward\u001b[0m\u001b[0;34m(\u001b[0m\u001b[0mself\u001b[0m\u001b[0;34m,\u001b[0m \u001b[0mgradient\u001b[0m\u001b[0;34m,\u001b[0m \u001b[0mretain_graph\u001b[0m\u001b[0;34m,\u001b[0m \u001b[0mcreate_graph\u001b[0m\u001b[0;34m)\u001b[0m\u001b[0;34m\u001b[0m\u001b[0;34m\u001b[0m\u001b[0m\n\u001b[0m\u001b[1;32m    222\u001b[0m \u001b[0;34m\u001b[0m\u001b[0m\n\u001b[1;32m    223\u001b[0m     \u001b[0;32mdef\u001b[0m \u001b[0mregister_hook\u001b[0m\u001b[0;34m(\u001b[0m\u001b[0mself\u001b[0m\u001b[0;34m,\u001b[0m \u001b[0mhook\u001b[0m\u001b[0;34m)\u001b[0m\u001b[0;34m:\u001b[0m\u001b[0;34m\u001b[0m\u001b[0;34m\u001b[0m\u001b[0m\n",
            "\u001b[0;32m/usr/local/lib/python3.6/dist-packages/torch/autograd/__init__.py\u001b[0m in \u001b[0;36mbackward\u001b[0;34m(tensors, grad_tensors, retain_graph, create_graph, grad_variables)\u001b[0m\n\u001b[1;32m    130\u001b[0m     Variable._execution_engine.run_backward(\n\u001b[1;32m    131\u001b[0m         \u001b[0mtensors\u001b[0m\u001b[0;34m,\u001b[0m \u001b[0mgrad_tensors_\u001b[0m\u001b[0;34m,\u001b[0m \u001b[0mretain_graph\u001b[0m\u001b[0;34m,\u001b[0m \u001b[0mcreate_graph\u001b[0m\u001b[0;34m,\u001b[0m\u001b[0;34m\u001b[0m\u001b[0;34m\u001b[0m\u001b[0m\n\u001b[0;32m--> 132\u001b[0;31m         allow_unreachable=True)  # allow_unreachable flag\n\u001b[0m\u001b[1;32m    133\u001b[0m \u001b[0;34m\u001b[0m\u001b[0m\n\u001b[1;32m    134\u001b[0m \u001b[0;34m\u001b[0m\u001b[0m\n",
            "\u001b[0;31mKeyboardInterrupt\u001b[0m: "
          ]
        }
      ]
    },
    {
      "cell_type": "code",
      "metadata": {
        "id": "w5stfutOSXTl"
      },
      "source": [
        "save_path = './drive/MyDrive/omok/'\n",
        "torch.save(generator.state_dict(),save_path + 'GAN_generator2.pth')\n",
        "torch.save(discriminator.state_dict(),save_path + 'GAN_discriminator2.pth')"
      ],
      "execution_count": null,
      "outputs": []
    },
    {
      "cell_type": "code",
      "metadata": {
        "id": "L06Qy4jFtIMy"
      },
      "source": [
        "import numpy as np\n",
        "\n",
        "st = 55\n",
        "with torch.no_grad():\n",
        "  z = init.normal_(torch.Tensor(batch_size, z_len),std=1).to(device)\n",
        "  gen_fake = generator.forward(z)\n",
        "  dis_fake = discriminator.forward(gen_fake)\n",
        "  \n",
        "  maxi = np.argmax(dis_fake.cpu().detach().numpy())\n",
        "  mini = np.argmin(dis_fake.cpu().detach().numpy())\n",
        "  \n",
        "  image = []\n",
        "  image.append(torch.reshape(gen_fake[mini],(28,28)).cpu().detach().numpy())\n",
        "  image.append(torch.reshape(gen_fake[maxi],(28,28)).cpu().detach().numpy())\n",
        "\n",
        "  print(dis_fake[mini], dis_fake[maxi])\n",
        "  plt.figure(figsize=(20,30))\n",
        "  for i in range(2):\n",
        "      plt.subplot(1,5,i+1)\n",
        "      plt.imshow(image[i], cmap='gray')"
      ],
      "execution_count": null,
      "outputs": []
    },
    {
      "cell_type": "code",
      "metadata": {
        "id": "VDe4rdwOPy2e"
      },
      "source": [
        "with torch.no_grad():\n",
        "  it = iter(train_loader)\n",
        "  image, label = next(it)\n",
        "  x = image.to(device)\n",
        "  dis_real = discriminator.forward(x)\n",
        "\n",
        "  maxi = np.argmax(dis_real.cpu().detach().numpy())\n",
        "  mini = np.argmin(dis_real.cpu().detach().numpy())\n",
        "  print(mini, maxi)\n",
        "  image = []\n",
        "  image.append(torch.reshape(x[mini],(28,28)).cpu().detach().numpy())\n",
        "  image.append(torch.reshape(x[maxi],(28,28)).cpu().detach().numpy())\n",
        "\n",
        "  print(dis_real[mini].item(), dis_real[maxi].item())\n",
        "  plt.figure(figsize=(20,30))\n",
        "  for i in range(2):\n",
        "      plt.subplot(1,5,i+1)\n",
        "      plt.imshow(image[i], cmap='gray')"
      ],
      "execution_count": null,
      "outputs": []
    },
    {
      "cell_type": "code",
      "metadata": {
        "id": "ieE4yGJs3ZiN"
      },
      "source": [
        "it = iter(train_loader)\n",
        "image,label = next(it)\n",
        "sample = torch.reshape(image[0],(28,28)).cpu().detach().numpy()\n",
        "fig = plt.figure\n",
        "plt.imshow(sample, cmap='gray')\n",
        "plt.show()"
      ],
      "execution_count": null,
      "outputs": []
    },
    {
      "cell_type": "code",
      "metadata": {
        "id": "qZ1jUqIH4p4O"
      },
      "source": [
        "256 * 234"
      ],
      "execution_count": null,
      "outputs": []
    },
    {
      "cell_type": "code",
      "metadata": {
        "id": "_BhGzz8i6AMZ"
      },
      "source": [
        "'''\n",
        "ascii image 생성 함수. 이미지 처리도 배워야겠다..\n",
        "'''\n",
        "#import numpy as np\n",
        "\n",
        "def print_image(image):\n",
        "  im = np.array(image)\n",
        "  color = [' ', '.', ':', '|', '@', '@']\n",
        "\n",
        "  im *= (len(color) - 1)\n",
        "\n",
        "  for r in im:\n",
        "    for e in r:\n",
        "      print(color[int(e)],end=' ')\n",
        "    print()"
      ],
      "execution_count": null,
      "outputs": []
    },
    {
      "cell_type": "code",
      "metadata": {
        "id": "H0vh24h51Lp6"
      },
      "source": [
        "'''\n",
        "그리기 테스트. 학습이 안되서 아직 의미 없음\n",
        "'''\n",
        "test_size = 1\n",
        "\n",
        "generator.eval()\n",
        "discriminator.eval()\n",
        "\n",
        "with torch.no_grad():\n",
        "  for i in range(test_size):\n",
        "    z = init.normal_(torch.Tensor(batch_size,z_len),std=0.1).to(device)\n",
        "    gen_fake = generator.forward(z)\n",
        "    dis_fake = discriminator.forward(gen_fake)\n",
        "\n",
        "    print_image(gen_fake.cpu()[0,0])\n",
        "    print(dis_fake[0])"
      ],
      "execution_count": null,
      "outputs": []
    },
    {
      "cell_type": "code",
      "metadata": {
        "id": "MWnLjePEmSvQ"
      },
      "source": [
        "import numpy as np\n",
        "\n",
        "\n",
        "with torch.no_grad():\n",
        "  z = init.normal_(torch.Tensor(batch_size, z_len),std=1).to(device)\n",
        "  gen_fake = generator.forward(z)\n",
        "  dis_fake = discriminator.forward(gen_fake)\n",
        "  \n",
        "  maxi = np.argmax(dis_fake.cpu().detach().numpy())\n",
        "  mini = np.argmin(dis_fake.cpu().detach().numpy())\n",
        "  \n",
        "  image = []\n",
        "  image.append(np.transpose(torch.reshape(gen_fake[mini],(3,image_size,image_size)).cpu().detach().numpy(), (1,2,0))\n",
        "  image.append(np.transpose(torch.reshape(gen_fake[maxi],(3,image_size,image_size)).cpu().detach().numpy(), (1,2,0))\n",
        "\n",
        "  print(dis_fake[mini], dis_fake[maxi])\n",
        "  plt.figure(figsize=(20,30))\n",
        "  for i in range(2):\n",
        "      plt.subplot(1,5,i+1)\n",
        "      plt.imshow(image[i])"
      ],
      "execution_count": null,
      "outputs": []
    }
  ]
}