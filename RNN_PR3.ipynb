{
  "nbformat": 4,
  "nbformat_minor": 0,
  "metadata": {
    "colab": {
      "name": "RNN_PR3.ipynb",
      "provenance": [],
      "collapsed_sections": [],
      "mount_file_id": "1fcoqfyWQRd2FO9RSvAWC_gS9LJb2sycA",
      "authorship_tag": "ABX9TyNfH3hUH1qoehJs4Yqjiu61",
      "include_colab_link": true
    },
    "kernelspec": {
      "name": "python3",
      "display_name": "Python 3"
    },
    "language_info": {
      "name": "python"
    }
  },
  "cells": [
    {
      "cell_type": "markdown",
      "metadata": {
        "id": "view-in-github",
        "colab_type": "text"
      },
      "source": [
        "<a href=\"https://colab.research.google.com/github/luanakwon/ML_Pytorch_pre2022/blob/main/RNN_PR3.ipynb\" target=\"_parent\"><img src=\"https://colab.research.google.com/assets/colab-badge.svg\" alt=\"Open In Colab\"/></a>"
      ]
    },
    {
      "cell_type": "markdown",
      "source": [
        "very first try of RNN."
      ],
      "metadata": {
        "id": "HawpxZiBD5lt"
      }
    },
    {
      "cell_type": "code",
      "metadata": {
        "id": "6uudboO5Jeyk"
      },
      "source": [
        "import torch\n",
        "import torch.nn as nn\n",
        "import numpy as np\n",
        "import string\n",
        "import random\n",
        "import matplotlib.pyplot as plt"
      ],
      "execution_count": null,
      "outputs": []
    },
    {
      "cell_type": "code",
      "metadata": {
        "id": "_joWCWJSYW6q"
      },
      "source": [
        "######### hyper #########\n",
        "epoch = 700\n",
        "lr = 0.001\n",
        "\n",
        "embedding_size = 70\n",
        "hidden_size = 80\n",
        "num_layers = 3\n",
        "\n",
        "chunk_len = 300"
      ],
      "execution_count": null,
      "outputs": []
    },
    {
      "cell_type": "code",
      "metadata": {
        "colab": {
          "base_uri": "https://localhost:8080/"
        },
        "id": "-uOC5fLmJxIy",
        "outputId": "36d476b7-9ec7-44fc-ee0b-8e7e6dbee3a5"
      },
      "source": [
        "chars = string.printable\n",
        "print(chars[0])\n",
        "\n",
        "file_path = 'drive/MyDrive/text_dataset/Headlights.txt'\n",
        "FILE = str(open(file_path).read())\n",
        "#FILE = FILE.lower()\n",
        "print(FILE[:chunk_len*5])\n",
        "\n",
        "FILE = FILE.replace(' ',chars[98])\n",
        "for c in chars[62:98]:\n",
        "  FILE = FILE.replace(c,chars[98]+c+chars[98])\n",
        "FILE = FILE.replace(chars[98]+chars[98],chars[98])\n",
        "FILE = FILE.split(chars[98])\n",
        "\n",
        "i_to_v = list(set(FILE))\n",
        "v_to_i = {s:i for i, s in enumerate(i_to_v)}\n",
        "vocab_len = len(i_to_v)\n",
        "\n",
        "for i,s in enumerate(FILE):\n",
        "  FILE[i] = v_to_i[s]\n",
        "\n",
        "file_len = len(FILE)\n",
        "print(len(i_to_v))"
      ],
      "execution_count": null,
      "outputs": [
        {
          "output_type": "stream",
          "text": [
            "0\n",
            "Mom, I know I let you down\n",
            "And though you say the days are happy\n",
            "Why is the power off and I'm fucked up?\n",
            "And, mom, I know he's not around\n",
            "But don't you place the blame on me\n",
            "As you pour yourself another drink, yeah\n",
            "I guess we are who we are\n",
            "Headlights shining in the dark night, I drive on\n",
            "Maybe we took this too far\n",
            "I went in headfirst, never thinkin' about who, what I said hurt\n",
            "In what verse, my mom probably got it the worst\n",
            "The brunt of it, but as stubborn as we are, did I take it too far?\n",
            "\"Cleanin' Out My Closet\" and all them other songs\n",
            "But regardless, I don't hate you 'cause, Ma\n",
            "You're still beautiful to me, 'cause you're my Ma\n",
            "Though far be it from you to be calm\n",
            "Our house was Vietnam, Desert Storm\n",
            "And both of us put together could form an atomic bomb\n",
            "Equivalent to chemical warfare\n",
            "And forever we could drag this on and on\n",
            "But agree to disagree, that gift for me\n",
            "Up under the Christmas tree don't mean shit to me\n",
            "You're kickin' me out? It's 15 degrees\n",
            "And it's Christmas Eve, \"Little prick, just leave\"\n",
            "Ma, let me grab my fucking coat\n",
            "Anything to have each other's goats\n",
            "Why we always at each other's throats?\n",
            "Especially when Dad, he fucked us both\n",
            "We're in the same fuckin' boat\n",
            "You'd think that'd make us close (Nope)\n",
            "Further away it drove us, but together, headlights shine\n",
            "And a car full of belongings, still got a ways to go\n",
            "Back to grandma's house, it's straight up the road\n",
            "And I was the man of the house, the oldest\n",
            "So my shoulders carried the weight of the load\n",
            "Then Nate got\n",
            "368\n"
          ],
          "name": "stdout"
        }
      ]
    },
    {
      "cell_type": "code",
      "metadata": {
        "id": "W_bJmC5uPCem",
        "colab": {
          "base_uri": "https://localhost:8080/"
        },
        "outputId": "b83662b9-8a20-4b65-8d8f-3ca6cc0b82b6"
      },
      "source": [
        "def random_chunk():\n",
        "  start_idx = random.randint(0,file_len-chunk_len-1)\n",
        "  end_idx = start_idx + chunk_len\n",
        "  return FILE[start_idx:end_idx]\n",
        "  #return FILE[0:chunk_len]\n",
        "\n",
        "def idx2word(index):\n",
        "  return i_to_v[index]\n",
        "\n",
        "def word2idx(word):\n",
        "  return v_to_i[word]\n",
        "\n",
        "print(word2idx('I'))"
      ],
      "execution_count": null,
      "outputs": [
        {
          "output_type": "stream",
          "text": [
            "128\n"
          ],
          "name": "stdout"
        }
      ]
    },
    {
      "cell_type": "code",
      "metadata": {
        "id": "p4Y4u9SWUaKv"
      },
      "source": [
        "class RNN(nn.Module):\n",
        "  def __init__(self,vocab_len,embedding_size,hidden_size,num_layers):\n",
        "    super(RNN,self).__init__()\n",
        "\n",
        "    self.hidden_size = hidden_size\n",
        "    self.num_layers = num_layers\n",
        "\n",
        "    # input : batch,seq\n",
        "    self.embedding_layer = nn.Embedding(vocab_len,embedding_size) \n",
        "    # output : batch, seq, dim\n",
        "    # input : batch, seq, dim\n",
        "    # hidden : batch, layer*dir, hid_dim\n",
        "    self.rnn_layer = nn.RNN(embedding_size,hidden_size,num_layers,batch_first=True,)\n",
        "    # output : batch, seq, dir*hid_dim\n",
        "    # input : batch, seq, dir*hid_dim\n",
        "    self.translate_layer = nn.Linear(hidden_size,embedding_size)\n",
        "    # output : batch, seq, embedding_dim\n",
        "    # input : batch, seq, embedding_dim \n",
        "    self.decoding_layer = nn.Sequential(\n",
        "        nn.Linear(embedding_size,vocab_len)\n",
        "    )\n",
        "    # output = batch, seq, vocab_len\n",
        "\n",
        "  def forward(self,input_,hidden, batch_size):\n",
        "    out = self.embedding_layer(input_.view(batch_size,-1))\n",
        "    seq_len = out.shape[1]\n",
        "    out, hidden = self.rnn_layer(out,hidden)\n",
        "    out = out.view(batch_size, seq_len, -1)\n",
        "    out = self.translate_layer(out)\n",
        "    out = self.decoding_layer(out)\n",
        "    return out, hidden\n",
        "\n",
        "  def init_hidden(self, batch_size):\n",
        "    return torch.zeros(self.num_layers,batch_size, self.hidden_size)"
      ],
      "execution_count": null,
      "outputs": []
    },
    {
      "cell_type": "code",
      "metadata": {
        "id": "IpwKwWTLYQY9"
      },
      "source": [
        "rnn = RNN(vocab_len,embedding_size,hidden_size,num_layers)\n",
        "\n",
        "loss_func = nn.CrossEntropyLoss()\n",
        "optimizer = torch.optim.Adam(rnn.parameters(),lr=lr)\n",
        "#optimizer = torch.optim.SGD(rnn.parameters(),lr=lr)"
      ],
      "execution_count": null,
      "outputs": []
    },
    {
      "cell_type": "code",
      "metadata": {
        "colab": {
          "base_uri": "https://localhost:8080/"
        },
        "id": "_ngK8mu6ZHfl",
        "outputId": "b53d1383-39c8-4d06-9025-310c47346dda"
      },
      "source": [
        "loss = []\n",
        "\n",
        "for e in range(epoch):\n",
        "  optimizer.zero_grad()\n",
        "\n",
        "  chunk = random_chunk()\n",
        "  inp = torch.LongTensor(chunk[:-1])\n",
        "  # label = np.zeros((1,chunk_len-1,vocab_len))\n",
        "  # for i, idx in enumerate(chunk[1:]):\n",
        "  #   label[0,i,idx] = 1\n",
        "  # label = torch.Tensor(label)\n",
        "  label = torch.LongTensor(chunk[1:])\n",
        "  hidden = rnn.init_hidden(1)\n",
        "\n",
        "  total_loss = 0\n",
        "\n",
        "  out, hidden = rnn.forward(inp,hidden,batch_size=1)\n",
        "  total_loss = loss_func(out.view(1*(chunk_len-1),-1), label)\n",
        "\n",
        "\n",
        "  # for i in range(chunk_len-1):\n",
        "    \n",
        "  #   out, hidden = rnn.forward(inp[i],hidden)\n",
        "  #   total_loss += loss_func(out,label[i].view(-1))\n",
        "    \n",
        "  loss.append(total_loss.data)  \n",
        "  total_loss.backward()\n",
        "  optimizer.step()\n",
        "  \n",
        "  if e%10==0:\n",
        "    print('\\r epoch %d loss %f '%(e,total_loss.data),end='')"
      ],
      "execution_count": null,
      "outputs": [
        {
          "output_type": "stream",
          "text": [
            " epoch 690 loss 0.021837 "
          ],
          "name": "stdout"
        }
      ]
    },
    {
      "cell_type": "code",
      "metadata": {
        "colab": {
          "base_uri": "https://localhost:8080/",
          "height": 281
        },
        "id": "Wbl3HKdMa1B1",
        "outputId": "fcf0badf-a655-4904-f504-a2d99ec785e4"
      },
      "source": [
        "plt.title('loss')\n",
        "plt.plot(loss)\n",
        "plt.show()"
      ],
      "execution_count": null,
      "outputs": [
        {
          "output_type": "display_data",
          "data": {
            "image/png": "[encoded data removed]",
            "text/plain": [
              "<Figure size 432x288 with 1 Axes>"
            ]
          },
          "metadata": {
            "tags": [],
            "needs_background": "light"
          }
        }
      ]
    },
    {
      "cell_type": "code",
      "metadata": {
        "colab": {
          "base_uri": "https://localhost:8080/"
        },
        "id": "weOmnVqDbAvV",
        "outputId": "42d70830-e03c-443a-f095-18c2ff5bad21"
      },
      "source": [
        "with torch.no_grad():\n",
        "  start_tok = 'for'\n",
        "  s = start_tok + ' '\n",
        "  hidden = rnn.init_hidden(1)\n",
        "  inp = torch.LongTensor([word2idx(start_tok)]).view(1,1)\n",
        "  for i in range(1000):\n",
        "    #print(inp.data)\n",
        "    out, hidden = rnn.forward(inp,hidden,batch_size=1)\n",
        "    idx = np.argmax(out.view(-1).numpy())\n",
        "    s += idx2word(idx) + ' '\n",
        "    inp = torch.LongTensor([idx]).view(1,1)\n",
        "\n",
        "  print(s)"
      ],
      "execution_count": null,
      "outputs": [
        {
          "output_type": "stream",
          "text": [
            "for \" Cleanin ' Out My Closet \" \n",
            " At the time I was angry , rightfully ? Maybe so \n",
            " Never meant that far to take it though \n",
            " ' Cause now I know it ' s not your fault , and I ' m not makin ' jokes \n",
            " That song I no longer play at shows \n",
            " And I cringe every time it ' s on the radio \n",
            " And I think of Nathan being placed in a home \n",
            " And all the medicine you fed us and \n",
            " How I just wanted you to taste your own \n",
            " But now the medication ' s takin ' over \n",
            " And your mental state ' s deterioratin ' slow \n",
            " And I ' m way too old to cry , the shit is painful though \n",
            " But , Ma , I forgive you , so does Nathan , yo \n",
            " All you did , all you said , you did your best to raise us both \n",
            " Foster care , that cross you bear , few may be as heavy as yours \n",
            " But I love you , Debbie Mathers \n",
            " Oh , what a tangled web we have ' cause \n",
            " One thing I never asked was \n",
            " Where the fuck my deadbeat dad was \n",
            " Fuck it , I guess he had trouble keepin ' up with every address \n",
            " But I ' da flipped every mattress , every rock and desert cactus \n",
            " Owned a collection of maps \n",
            " And followed my kids to the edge of the atlas \n",
            " If someone ever moved ' em from me \n",
            " That you coulda bet your asses \n",
            " If I had to come down the chimney , dressed as Santa , kidnap ' em \n",
            " And although one has only met their grandma once \n",
            " You pulled up in our drive one night \n",
            " As we were leavin ' to get some hamburgers \n",
            " Me , her and Nate , we introduced you , hugged you \n",
            " And as you left I had this overwhelming sadness \n",
            " Come over me as we pulled off to go our separate paths and \n",
            " I saw your headlights as I looked back \n",
            " And I ' m mad I didn ' t get the chance to \n",
            " Thank you for being my mom and my dad \n",
            " So , mom , please accept this as a \n",
            " Tribute , I wrote this on the jet , I guess I had to \n",
            " Get this off my chest , I hope I get the chance to \n",
            " Lay it ' fore I ' m dead , the stewardess said to fasten \n",
            " My seatbelt , I guess we ' re crashin ' \n",
            " So , if I ' m not dreamin ' , I hope you get this message that \n",
            " I will always love you from afar ,  ' cause you ' re my mom \n",
            " I guess we are who we are \n",
            " Headlights shining in the dark night , I drive on \n",
            " Maybe we took this too far \n",
            " I went in headfirst , never thinkin ' about who , what I said hurt \n",
            " In what verse , my mom probably got it the worst \n",
            " The brunt of it , but as stubborn as we are , did I take it too far ? \n",
            " \" Cleanin ' Out My Closet \" and all them other songs \n",
            " But regardless , I don ' t hate you ' cause , Ma \n",
            " You ' re still beautiful to me ,  ' cause you ' re my Ma \n",
            " Though far be it from you to be calm \n",
            " Our house was Vietnam , Desert Storm \n",
            " And both of us put together could form an atomic bomb \n",
            " Equivalent to chemical warfare \n",
            " And forever we could drag this on and on \n",
            " But agree to disagree , that gift for me \n",
            " Up under the Christmas tree don ' t mean shit to me \n",
            " You ' re kickin ' me out ? It ' s 15 degrees \n",
            " And it ' s Christmas Eve ,  \" Little prick , just leave \" \n",
            " Ma , let me grab my fucking coat \n",
            " Anything to have each other ' s goats \n",
            " Why we always at each other ' s throats ? \n",
            " Especially when Dad , he fucked us both \n",
            " We ' re in the same fuckin ' boat \n",
            " You ' d think that ' d make us close ( Nope ) \n",
            " Further away it drove us , but together , headlights shine \n",
            " And a car full of belongings , still got a ways to go \n",
            " Back to grandma ' s house , it ' s straight up the road \n",
            " And I was the man of the house , the oldest \n",
            " So my shoulders carried the weight of the load \n",
            " Then Nate got taken away by the state at eight years old \n",
            " And that ' s when I realized you were sick \n",
            " And it wasn ' t fixable or changeable \n",
            " And to this day we remain estranged , and I hate it though , but \n",
            " ' Cause to this day we remain estranged , and I hate it though \n",
            " ' Cause you ain ' t even get to witness your grandbabies grow \n",
            " But I ' m sorry , momma , for \" Cleanin ' Out My Closet \" \n",
            " At the time I was angry , rightfully ? Maybe so \n",
            " Never meant that far to take it though \n",
            " ' Cause now I know it ' s not your fault , and I ' m not makin ' jokes \n",
            " That song I no longer play at shows \n",
            " And I cringe every time it ' s on the radio \n",
            " And I think of Nathan \n"
          ],
          "name": "stdout"
        }
      ]
    }
  ]
}