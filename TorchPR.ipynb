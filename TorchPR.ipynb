{
  "nbformat": 4,
  "nbformat_minor": 0,
  "metadata": {
    "colab": {
      "name": "TorchPR.ipynb",
      "provenance": [],
      "collapsed_sections": [],
      "mount_file_id": "13ShnEgm8mXAeegXo6jbYJnfLMXOFYzvl",
      "authorship_tag": "ABX9TyNAdLm03zdrgEQ7LceE42OE",
      "include_colab_link": true
    },
    "kernelspec": {
      "name": "python3",
      "display_name": "Python 3"
    },
    "accelerator": "GPU"
  },
  "cells": [
    {
      "cell_type": "markdown",
      "metadata": {
        "id": "view-in-github",
        "colab_type": "text"
      },
      "source": [
        "<a href=\"https://colab.research.google.com/github/luanakwon/ML_Pytorch_pre2022/blob/main/TorchPR.ipynb\" target=\"_parent\"><img src=\"https://colab.research.google.com/assets/colab-badge.svg\" alt=\"Open In Colab\"/></a>"
      ]
    },
    {
      "cell_type": "markdown",
      "source": [
        "# MNIST \n",
        "---\n",
        "Predicting hand written numbers with CNN model.  \n",
        "  \n",
        "  \n",
        "(pytorch prctice with mnist data. didn't even know how to use matplotlib nor cv2 back then)"
      ],
      "metadata": {
        "id": "YjB29Se_Cpic"
      }
    },
    {
      "cell_type": "code",
      "metadata": {
        "id": "ShgSAEEucObS"
      },
      "source": [
        "import torch\n",
        "import torch.nn as nn\n",
        "import torch.optim as optim\n",
        "import torch.nn.init as init"
      ],
      "execution_count": 1,
      "outputs": []
    },
    {
      "cell_type": "code",
      "metadata": {
        "id": "5B4pAn4axHlx"
      },
      "source": [
        "import torchvision.datasets as dset\n",
        "import torchvision.transforms as transforms\n",
        "from torch.utils.data import DataLoader "
      ],
      "execution_count": 2,
      "outputs": []
    },
    {
      "cell_type": "code",
      "metadata": {
        "id": "jW4RDOUnxcPp"
      },
      "source": [
        "batch_size = 256\n",
        "learning_rate = 0.0002\n",
        "num_epoch = 10"
      ],
      "execution_count": 3,
      "outputs": []
    },
    {
      "cell_type": "code",
      "metadata": {
        "id": "1DUADzb0eN9u",
        "colab": {
          "base_uri": "https://localhost:8080/"
        },
        "outputId": "66592a54-9fb6-46dd-d964-9e81bee3f232"
      },
      "source": [
        "mnist_train = dset.MNIST(\"./\",train=True, transform=transforms.ToTensor(),target_transform=None, download=True)\n",
        "mnist_test = dset.MNIST(\"./\",train=False, transform=transforms.ToTensor(),target_transform=None, download=True)\n",
        "\n",
        "train_loader = torch.utils.data.DataLoader(mnist_train, batch_size=batch_size, shuffle=True, num_workers=2, drop_last=True)\n",
        "test_loader = torch.utils.data.DataLoader(mnist_test,batch_size=batch_size,shuffle=False,num_workers=2,drop_last=True)\n",
        "\n",
        "print(f'Train dataset : \\n {mnist_train}')\n",
        "print('='*30)\n",
        "print(f'Test dataset : \\n {mnist_test}')"
      ],
      "execution_count": 15,
      "outputs": [
        {
          "output_type": "stream",
          "name": "stdout",
          "text": [
            "Train dataset : \n",
            " Dataset MNIST\n",
            "    Number of datapoints: 60000\n",
            "    Root location: ./\n",
            "    Split: Train\n",
            "    StandardTransform\n",
            "Transform: ToTensor()\n",
            "==============================\n",
            "Test dataset : \n",
            " Dataset MNIST\n",
            "    Number of datapoints: 10000\n",
            "    Root location: ./\n",
            "    Split: Test\n",
            "    StandardTransform\n",
            "Transform: ToTensor()\n"
          ]
        }
      ]
    },
    {
      "cell_type": "code",
      "metadata": {
        "id": "qBZuJVNOe7rB"
      },
      "source": [
        "from torch.nn.modules.activation import Sigmoid\n",
        "class CNNClassifier(nn.Module):\n",
        "  def __init__(self):\n",
        "    super(CNNClassifier,self).__init__()\n",
        "    self.layer = nn.Sequential(\n",
        "        nn.Conv2d(1,16,5),\n",
        "        nn.BatchNorm2d(16),\n",
        "        nn.ReLU(),\n",
        "        nn.Conv2d(16,32,5),\n",
        "        nn.BatchNorm2d(32),\n",
        "        nn.ReLU(),\n",
        "        nn.MaxPool2d(2,2),\n",
        "        nn.Conv2d(32,64,5),\n",
        "        nn.BatchNorm2d(64),\n",
        "        nn.ReLU(),\n",
        "        nn.MaxPool2d(2,2)\n",
        "    )\n",
        "    self.fc_layer = nn.Sequential(\n",
        "        nn.Linear(64*3*3,100),\n",
        "        nn.ReLU(),\n",
        "        nn.Linear(100,10),\n",
        "        nn.Softmax(10)\n",
        "    )\n",
        "  def forward(self, x):\n",
        "    out = self.layer(x)\n",
        "    out = out.view(batch_size, -1)\n",
        "    out = self.fc_layer(out)\n",
        "    return out"
      ],
      "execution_count": 5,
      "outputs": []
    },
    {
      "cell_type": "code",
      "metadata": {
        "id": "SGqOibza1J-d"
      },
      "source": [
        "device = torch.device(\"cuda:0\" if torch.cuda.is_available() else \"cpu\")\n",
        "model = CNNClassifier().to(device)\n",
        "loss_func = nn.CrossEntropyLoss()\n",
        "optimizer = optim.Adam(model.parameters(), lr=learning_rate)"
      ],
      "execution_count": 6,
      "outputs": []
    },
    {
      "cell_type": "code",
      "metadata": {
        "colab": {
          "base_uri": "https://localhost:8080/"
        },
        "id": "uLAz8d-7fSJ8",
        "outputId": "328a0c57-0b8a-421d-fd8b-bb90b55babd3"
      },
      "source": [
        "tr_loss_array = []\n",
        "te_loss_array = []\n",
        "\n",
        "for e in range(num_epoch):\n",
        "  # train \n",
        "  for i, [image,label] in enumerate(train_loader):\n",
        "    x = image.to(device)\n",
        "    y_= label.to(device)\n",
        "\n",
        "    optimizer.zero_grad()\n",
        "    output = model.forward(x)\n",
        "    loss = loss_func(output,y_)\n",
        "    loss.backward()\n",
        "    optimizer.step()\n",
        "\n",
        "    if i%64==0:\n",
        "      print(f'\\rTRAIN [{e}/{num_epoch}] [{i}/{batch_size}] loss : {loss.data}', end='\\t')\n",
        "      tr_loss_array.append(loss.cpu().detach().numpy())\n",
        "\n",
        "  # test\n",
        "  for i, (image, label) in enumerate(test_loader):\n",
        "    with torch.no_grad():\n",
        "      x = image.to(device)\n",
        "      y_= label.to(device)\n",
        "\n",
        "      output = model.forward(x)\n",
        "      loss = loss_func(output,y_)\n",
        "\n",
        "      if i%64==0:\n",
        "        print(f'\\rTEST [{e}/{num_epoch}] [{i}/{batch_size}] loss : {loss.data}', end='\\t')\n",
        "        te_loss_array.append(loss.cpu().detach().numpy())\n"
      ],
      "execution_count": 7,
      "outputs": [
        {
          "output_type": "stream",
          "name": "stderr",
          "text": [
            "/usr/local/lib/python3.7/dist-packages/torch/nn/modules/container.py:141: UserWarning: Implicit dimension choice for softmax has been deprecated. Change the call to include dim=X as an argument.\n",
            "  input = module(input)\n"
          ]
        },
        {
          "output_type": "stream",
          "name": "stdout",
          "text": [
            "TEST [9/10] [0/256] loss : 1.4687657356262207\t"
          ]
        }
      ]
    },
    {
      "cell_type": "code",
      "source": [
        "import matplotlib.pyplot as plt\n",
        "import numpy as np\n",
        "\n",
        "plt.figure(figsize=(5,5))\n",
        "plt.plot(np.linspace(1,len(tr_loss_array),len(tr_loss_array)),\n",
        "         tr_loss_array, label='train loss')\n",
        "plt.plot(np.linspace(1,len(tr_loss_array),len(te_loss_array)),\n",
        "         te_loss_array, label='test loss')\n",
        "plt.legend()\n",
        "plt.show()"
      ],
      "metadata": {
        "colab": {
          "base_uri": "https://localhost:8080/",
          "height": 320
        },
        "id": "K9L3eeDioS1_",
        "outputId": "0a89057c-742d-43d4-ccc8-99cc27576448"
      },
      "execution_count": 8,
      "outputs": [
        {
          "output_type": "display_data",
          "data": {
            "image/png": "[encoded data removed]",
            "text/plain": [
              "<Figure size 360x360 with 1 Axes>"
            ]
          },
          "metadata": {
            "needs_background": "light"
          }
        }
      ]
    },
    {
      "cell_type": "code",
      "metadata": {
        "colab": {
          "base_uri": "https://localhost:8080/"
        },
        "id": "wP8RYbCIkjB4",
        "outputId": "a33daced-abc2-4c17-ca6b-a4cd209c66cd"
      },
      "source": [
        "correct = 0\n",
        "total = 0\n",
        "\n",
        "with torch.no_grad():\n",
        "  for image, label in test_loader:\n",
        "    x = image.to(device)\n",
        "    y_ = label.to(device)\n",
        "\n",
        "    output = model(x)\n",
        "    _,output_index = torch.max(output,1)\n",
        "\n",
        "    total += label.size(0)\n",
        "    correct += (output_index == y_).sum().float()\n",
        "\n",
        "  print(\"Accuracy of Test Data: {}\".format(correct/total))  "
      ],
      "execution_count": 9,
      "outputs": [
        {
          "output_type": "stream",
          "name": "stderr",
          "text": [
            "/usr/local/lib/python3.7/dist-packages/torch/nn/modules/container.py:141: UserWarning: Implicit dimension choice for softmax has been deprecated. Change the call to include dim=X as an argument.\n",
            "  input = module(input)\n"
          ]
        },
        {
          "output_type": "stream",
          "name": "stdout",
          "text": [
            "Accuracy of Test Data: 0.9944912195205688\n"
          ]
        }
      ]
    }
  ]
}