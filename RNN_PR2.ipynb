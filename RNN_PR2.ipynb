{
  "nbformat": 4,
  "nbformat_minor": 0,
  "metadata": {
    "colab": {
      "name": "RNN_PR2.ipynb",
      "provenance": [],
      "collapsed_sections": [],
      "mount_file_id": "1jpEllxrPJOYcN2EsvjrISOZCCpCX2Ioi",
      "authorship_tag": "ABX9TyNrzC1khB7sX12/DMaKpOlx",
      "include_colab_link": true
    },
    "kernelspec": {
      "name": "python3",
      "display_name": "Python 3"
    },
    "language_info": {
      "name": "python"
    }
  },
  "cells": [
    {
      "cell_type": "markdown",
      "metadata": {
        "id": "view-in-github",
        "colab_type": "text"
      },
      "source": [
        "<a href=\"https://colab.research.google.com/github/luanakwon/ML_Pytorch_pre2022/blob/main/RNN_PR2.ipynb\" target=\"_parent\"><img src=\"https://colab.research.google.com/assets/colab-badge.svg\" alt=\"Open In Colab\"/></a>"
      ]
    },
    {
      "cell_type": "markdown",
      "source": [
        "Attempt of character-wise RNN model - fail"
      ],
      "metadata": {
        "id": "El_f9PDLFJOQ"
      }
    },
    {
      "cell_type": "code",
      "metadata": {
        "id": "CzQsJ26o-9bv"
      },
      "source": [
        "import torch\n",
        "import torch.nn as nn\n",
        "import numpy as np\n",
        "import string\n",
        "import random\n",
        "import matplotlib.pyplot as plt\n"
      ],
      "execution_count": null,
      "outputs": []
    },
    {
      "cell_type": "code",
      "metadata": {
        "id": "PrmO7i8y_DV5"
      },
      "source": [
        "#hyperparameters\n",
        "lr = 0.005\n",
        "epoch =100\n",
        "\n",
        "n_hidden = 50\n",
        "n_embedding = 50\n",
        "chunk_len = 20\n",
        "#batch_size = 64\n"
      ],
      "execution_count": null,
      "outputs": []
    },
    {
      "cell_type": "code",
      "metadata": {
        "colab": {
          "base_uri": "https://localhost:8080/"
        },
        "id": "edufL47w_Fbl",
        "outputId": "b9422337-3d56-4632-95c2-7e74cc6c76ba"
      },
      "source": [
        "file_path = 'drive/MyDrive/text_dataset/OldTownRoad.txt'\n",
        "FILE = str(open(file_path).read())\n",
        "file_len = len(FILE)\n",
        "print(FILE[:100])"
      ],
      "execution_count": null,
      "outputs": [
        {
          "output_type": "stream",
          "text": [
            "You know what, I'm done, done, done\n",
            "Yeah, I'm gonna take my horse\n",
            "To the old town road\n",
            "I'm gonna rid\n"
          ],
          "name": "stdout"
        }
      ]
    },
    {
      "cell_type": "code",
      "metadata": {
        "id": "SRYPgrUc2uCV"
      },
      "source": [
        "def random_chunk():\n",
        "  start_idx = random.randint(0,file_len-chunk_len-1)\n",
        "  end_idx = start_idx + chunk_len\n",
        "  return FILE[start_idx:end_idx]\n",
        "  #return FILE[0:chunk_len]"
      ],
      "execution_count": null,
      "outputs": []
    },
    {
      "cell_type": "code",
      "metadata": {
        "colab": {
          "base_uri": "https://localhost:8080/"
        },
        "id": "Lk4FZcb9xD4H",
        "outputId": "d7789427-0930-4032-a909-aea4624f731a"
      },
      "source": [
        "chars = string.printable\n",
        "n_letters = len(chars) + 2\n",
        "\n",
        "def Encoder(string_):\n",
        "  onehot = np.zeros((len(string_)+2,n_letters))\n",
        "  onehot[0][-2] = 1\n",
        "  onehot[-1][-1] = 1\n",
        "\n",
        "  for i, s in enumerate(string_):\n",
        "    try:\n",
        "      onehot[i+1][chars.index(s)] = 1\n",
        "    except ValueError:\n",
        "      onehot[i+1][68] = 1\n",
        "      print(i, s)\n",
        "  return onehot\n",
        "\n",
        "def Decoder(onehot):\n",
        "  string_ = ''\n",
        "  onehot = np.argmax(onehot,axis = 1)\n",
        "  for s in onehot[1:]:\n",
        "    if s == n_letters-1:\n",
        "      break\n",
        "    string_+=chars[s]\n",
        "  return string_\n",
        "\n",
        "\n",
        "print(chars[68])\n",
        "# s = 'ABC'\n",
        "# o = Encoder(s)\n",
        "# print(s)\n",
        "# print(o)\n",
        "# print(Decoder(o))"
      ],
      "execution_count": null,
      "outputs": [
        {
          "output_type": "stream",
          "text": [
            "'\n"
          ],
          "name": "stdout"
        }
      ]
    },
    {
      "cell_type": "code",
      "metadata": {
        "id": "LLBW7yYg0Wkg"
      },
      "source": [
        "class RNN(nn.Module):\n",
        "  def __init__(self,input_size,num_layers):\n",
        "    super(RNN,self).__init__()\n",
        "\n",
        "    self.input_size = input_size\n",
        "    self.num_layers = num_layers\n",
        "\n",
        "    self.rnn_layer = nn.GRU(input_size,input_size,num_layers,batch_first=True)\n",
        "\n",
        "  def forward(self,input_,hidden):\n",
        "    out, hidden = self.rnn_layer(input_.view(1,1,self.input_size),hidden)\n",
        "    return out, hidden\n",
        "\n",
        "  def init_hidden(self):\n",
        "    return torch.zeros(self.num_layers,1,self.input_size)\n",
        "    \n"
      ],
      "execution_count": null,
      "outputs": []
    },
    {
      "cell_type": "code",
      "metadata": {
        "id": "peR33R622B1L"
      },
      "source": [
        "loss_func = nn.CrossEntropyLoss()\n",
        "rnn = RNN(n_letters,3)\n",
        "\n",
        "optimizer = torch.optim.Adam(rnn.parameters(),lr=lr)"
      ],
      "execution_count": null,
      "outputs": []
    },
    {
      "cell_type": "code",
      "metadata": {
        "colab": {
          "base_uri": "https://localhost:8080/"
        },
        "id": "_FyXr6vz2qld",
        "outputId": "566664e8-94ec-48f5-8c6e-3fcd0367aeb0"
      },
      "source": [
        "loss_list = []\n",
        "\n",
        "\n",
        "for e in range(epoch):\n",
        "  chunk = Encoder(random_chunk())\n",
        "  hidden = rnn.init_hidden()\n",
        "\n",
        "  optimizer.zero_grad()\n",
        "\n",
        "  total_loss = 0\n",
        "  for i in range(len(chunk)-1):\n",
        "    inp = torch.Tensor(chunk[i,:])\n",
        "    label = torch.LongTensor([np.argmax(chunk[i+1,:])])\n",
        "\n",
        "    out, hidden = rnn.forward(inp,hidden)\n",
        "    total_loss += loss_func(out.view(1,-1),label)\n",
        "\n",
        "  total_loss.backward()\n",
        "  optimizer.step()\n",
        "\n",
        "  loss_list.append(total_loss.data)\n",
        "  if e%10 == 0:\n",
        "    print('epoch %d, total_loss %f'%(e,total_loss.data))\n"
      ],
      "execution_count": null,
      "outputs": [
        {
          "output_type": "stream",
          "text": [
            "epoch 0, total_loss 97.291260\n",
            "epoch 10, total_loss 74.790131\n",
            "epoch 20, total_loss 74.217659\n",
            "epoch 30, total_loss 79.565811\n",
            "epoch 40, total_loss 74.436958\n",
            "epoch 50, total_loss 77.631973\n",
            "epoch 60, total_loss 79.589912\n",
            "epoch 70, total_loss 75.657463\n",
            "epoch 80, total_loss 75.075996\n",
            "epoch 90, total_loss 75.807076\n"
          ],
          "name": "stdout"
        }
      ]
    },
    {
      "cell_type": "code",
      "metadata": {
        "colab": {
          "base_uri": "https://localhost:8080/",
          "height": 336
        },
        "id": "95hQ66ht7BUt",
        "outputId": "abf7bee2-3f36-4417-bc95-31b5b965a9e4"
      },
      "source": [
        "plt.figure(figsize=(10,5))\n",
        "plt.title('loss')\n",
        "plt.plot(loss_list)\n",
        "plt.show()"
      ],
      "execution_count": null,
      "outputs": [
        {
          "output_type": "display_data",
          "data": {
            "image/png": "[encoded data removed]",
            "text/plain": [
              "<Figure size 720x360 with 1 Axes>"
            ]
          },
          "metadata": {
            "tags": [],
            "needs_background": "light"
          }
        }
      ]
    },
    {
      "cell_type": "code",
      "metadata": {
        "colab": {
          "base_uri": "https://localhost:8080/"
        },
        "id": "4FLfArdV9HLk",
        "outputId": "66fe6893-a867-44d5-a0a6-2c9fcc017e51"
      },
      "source": [
        "with torch.no_grad():\n",
        "  start = np.zeros((n_letters))\n",
        "  start[33] = 1\n",
        "  o = [start]\n",
        "  inp = torch.Tensor(start)\n",
        "  hidden = rnn.init_hidden()\n",
        "\n",
        "\n",
        "  \n",
        "  for i in range(chunk_len):\n",
        "    out, hidden = rnn.forward(inp,hidden)\n",
        "    out = out.view(-1)\n",
        "    inp = out\n",
        "\n",
        "    o.append(out.cpu().numpy())\n",
        "    \n",
        "  print(np.argmax(o,axis=1))\n",
        "  print(Decoder(o))"
      ],
      "execution_count": null,
      "outputs": [
        {
          "output_type": "stream",
          "text": [
            "[33 94 94 14 14 14 14 14 14 14 14 14 14 14 14 14 14 14 14 14 14]\n",
            "  eeeeeeeeeeeeeeeeee\n"
          ],
          "name": "stdout"
        }
      ]
    }
  ]
}